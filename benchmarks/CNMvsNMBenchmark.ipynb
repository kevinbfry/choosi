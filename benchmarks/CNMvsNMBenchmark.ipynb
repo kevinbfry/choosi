{
 "cells": [
  {
   "cell_type": "code",
   "execution_count": 1,
   "metadata": {},
   "outputs": [],
   "source": [
    "import numpy as np"
   ]
  },
  {
   "cell_type": "code",
   "execution_count": 2,
   "metadata": {},
   "outputs": [],
   "source": [
    "n, p = int(12e3), int(1e4)\n",
    "X = np.asfortranarray(np.random.randn(n, p))\n",
    "H = X.T @ X / n"
   ]
  },
  {
   "cell_type": "code",
   "execution_count": 3,
   "metadata": {},
   "outputs": [
    {
     "data": {
      "text/plain": [
       "(12000, 10000)"
      ]
     },
     "execution_count": 3,
     "metadata": {},
     "output_type": "execute_result"
    }
   ],
   "source": [
    "n, p"
   ]
  },
  {
   "cell_type": "code",
   "execution_count": 4,
   "metadata": {},
   "outputs": [],
   "source": [
    "import choosi as cs"
   ]
  },
  {
   "cell_type": "code",
   "execution_count": 5,
   "metadata": {},
   "outputs": [],
   "source": [
    "beta = np.random.choice([-1,1], size=p, replace=True) * np.random.choice([3,4,5], size=p, replace=True)"
   ]
  },
  {
   "cell_type": "code",
   "execution_count": 6,
   "metadata": {},
   "outputs": [],
   "source": [
    "y = X @ beta + np.random.randn(n)"
   ]
  },
  {
   "cell_type": "code",
   "execution_count": 7,
   "metadata": {},
   "outputs": [],
   "source": [
    "v = -X.T @ y / n\n",
    "scaling = np.ones(p)"
   ]
  },
  {
   "cell_type": "code",
   "execution_count": 8,
   "metadata": {},
   "outputs": [],
   "source": [
    "x_soln = np.linalg.solve(H, -v)"
   ]
  },
  {
   "cell_type": "code",
   "execution_count": 9,
   "metadata": {},
   "outputs": [],
   "source": [
    "signs = np.sign(x_soln) "
   ]
  },
  {
   "cell_type": "code",
   "execution_count": 10,
   "metadata": {},
   "outputs": [
    {
     "name": "stdout",
     "output_type": "stream",
     "text": [
      "3.71 s ± 268 ms per loop (mean ± std. dev. of 7 runs, 1 loop each)\n"
     ]
    }
   ],
   "source": [
    "%%timeit\n",
    "qnm = cs.optimizer.CQNMOptimizer(v, H, signs, scaling, lmda=1e-6)\n",
    "x_opt = qnm.optimize(max_steps=100, tau=.5, c=.5, tol=1e-10)"
   ]
  },
  {
   "cell_type": "code",
   "execution_count": 11,
   "metadata": {},
   "outputs": [
    {
     "name": "stdout",
     "output_type": "stream",
     "text": [
      "2min 53s ± 4.82 s per loop (mean ± std. dev. of 7 runs, 1 loop each)\n"
     ]
    }
   ],
   "source": [
    "%%timeit\n",
    "nm = cs.optimizer.NMOptimizer(v, H, signs, scaling, lmda=1e-6)\n",
    "x_opt = nm.optimize(max_steps=100, tau=.5, c=.5, tol=1e-10)"
   ]
  },
  {
   "cell_type": "code",
   "execution_count": 12,
   "metadata": {},
   "outputs": [],
   "source": [
    "# %%prun -s cumtime\n",
    "# qnm = cs.optimizer.CQNMOptimizer(v, H, signs, scaling, lmda=1e-6)\n",
    "# x_opt = qnm.optimize(max_steps=100, tau=.5, c=.5, tol=1e-10)"
   ]
  },
  {
   "cell_type": "code",
   "execution_count": 13,
   "metadata": {},
   "outputs": [
    {
     "ename": "NameError",
     "evalue": "name 'x_opt' is not defined",
     "output_type": "error",
     "traceback": [
      "\u001b[0;31m---------------------------------------------------------------------------\u001b[0m",
      "\u001b[0;31mNameError\u001b[0m                                 Traceback (most recent call last)",
      "Cell \u001b[0;32mIn[13], line 1\u001b[0m\n\u001b[0;32m----> 1\u001b[0m \u001b[43mx_opt\u001b[49m\n",
      "\u001b[0;31mNameError\u001b[0m: name 'x_opt' is not defined"
     ]
    }
   ],
   "source": [
    "x_opt"
   ]
  },
  {
   "cell_type": "code",
   "execution_count": null,
   "metadata": {},
   "outputs": [],
   "source": [
    "qnm_obj = .5 * x_opt.T.dot(H.dot(x_opt)) - v.dot(x_opt)"
   ]
  },
  {
   "cell_type": "code",
   "execution_count": null,
   "metadata": {},
   "outputs": [
    {
     "name": "stdout",
     "output_type": "stream",
     "text": [
      " "
     ]
    },
    {
     "name": "stdout",
     "output_type": "stream",
     "text": [
      "         3822 function calls (3800 primitive calls) in 175.412 seconds\n",
      "\n",
      "   Ordered by: cumulative time\n",
      "\n",
      "   ncalls  tottime  percall  cumtime  percall filename:lineno(function)\n",
      "        1    0.000    0.000  175.412  175.412 {built-in method builtins.exec}\n",
      "        1    0.000    0.000  175.412  175.412 <string>:1(<module>)\n",
      "        1    0.000    0.000  175.412  175.412 optimizer.py:55(optimize)\n",
      "        1    0.001    0.001  175.412  175.412 optimizer.py:70(_optimize)\n",
      "    66/44    0.000    0.000  174.592    3.968 _interface.py:205(matvec)\n",
      "       44    0.000    0.000  174.591    3.968 _interface.py:592(_matvec)\n",
      "       44    0.000    0.000  174.591    3.968 optimizer.py:35(solve_matvec)\n",
      "       44  174.590    3.968  174.591    3.968 linalg.py:329(solve)\n",
      "       22    0.000    0.000   87.751    3.989 _interface.py:451(__matmul__)\n",
      "       22    0.000    0.000   87.751    3.989 _interface.py:410(__mul__)\n",
      "       22    0.000    0.000   87.751    3.989 _interface.py:419(dot)\n",
      "       22    0.001    0.000   87.751    3.989 _interface.py:740(_matvec)\n",
      "       22    0.009    0.000   86.852    3.948 optimizer.py:30(_get_hessinv)\n",
      "       22    0.000    0.000   86.842    3.947 _interface.py:573(__init__)\n",
      "       22    0.000    0.000   86.842    3.947 _interface.py:177(_init_dtype)\n",
      "       64    0.584    0.009    0.586    0.009 optimizer.py:45(_get_obj)\n",
      "       23    0.220    0.010    0.220    0.010 optimizer.py:50(_get_grad)\n",
      "      171    0.002    0.000    0.002    0.000 {method 'dot' of 'numpy.ndarray' objects}\n",
      "       22    0.000    0.000    0.001    0.000 index_tricks.py:992(diag_indices_from)\n",
      "       86    0.001    0.000    0.001    0.000 {method 'reduce' of 'numpy.ufunc' objects}\n",
      "       64    0.000    0.000    0.001    0.000 {method 'sum' of 'numpy.ndarray' objects}\n",
      "       22    0.000    0.000    0.001    0.000 _interface.py:518(__neg__)\n",
      "       64    0.000    0.000    0.001    0.000 _methods.py:47(_sum)\n",
      "       22    0.000    0.000    0.001    0.000 _interface.py:725(__init__)\n",
      "       44    0.000    0.000    0.001    0.000 _interface.py:161(__init__)\n",
      "       44    0.000    0.000    0.001    0.000 _sputils.py:240(isshape)\n",
      "       88    0.000    0.000    0.001    0.000 _sputils.py:218(isintlike)\n",
      "       22    0.000    0.000    0.000    0.000 function_base.py:1324(diff)\n",
      "       22    0.000    0.000    0.000    0.000 fromnumeric.py:2421(all)\n",
      "       88    0.000    0.000    0.000    0.000 fromnumeric.py:3176(ndim)\n",
      "       22    0.000    0.000    0.000    0.000 fromnumeric.py:71(_wrapreduction)\n",
      "       22    0.000    0.000    0.000    0.000 _interface.py:660(_get_dtype)\n",
      "       44    0.000    0.000    0.000    0.000 _interface.py:146(__new__)\n",
      "       44    0.000    0.000    0.000    0.000 linalg.py:159(_commonType)\n",
      "       66    0.000    0.000    0.000    0.000 {method 'reshape' of 'numpy.ndarray' objects}\n",
      "       66    0.000    0.000    0.000    0.000 numeric.py:1855(isscalar)\n",
      "      264    0.000    0.000    0.000    0.000 {built-in method builtins.isinstance}\n",
      "      286    0.000    0.000    0.000    0.000 {built-in method numpy.asarray}\n",
      "       44    0.000    0.000    0.000    0.000 {method 'astype' of 'numpy.ndarray' objects}\n",
      "       22    0.000    0.000    0.000    0.000 index_tricks.py:919(diag_indices)\n",
      "       88    0.000    0.000    0.000    0.000 {built-in method numpy.asanyarray}\n",
      "       22    0.000    0.000    0.000    0.000 {built-in method numpy.arange}\n",
      "       88    0.000    0.000    0.000    0.000 linalg.py:135(_makearray)\n",
      "       22    0.000    0.000    0.000    0.000 {built-in method numpy.zeros}\n",
      "       44    0.000    0.000    0.000    0.000 abc.py:117(__instancecheck__)\n",
      "       22    0.000    0.000    0.000    0.000 _sputils.py:384(is_pydata_spmatrix)\n",
      "       44    0.000    0.000    0.000    0.000 linalg.py:209(_assert_stacked_square)\n",
      "       44    0.000    0.000    0.000    0.000 {built-in method _abc._abc_instancecheck}\n",
      "       44    0.000    0.000    0.000    0.000 linalg.py:130(get_linalg_error_extobj)\n",
      "       88    0.000    0.000    0.000    0.000 linalg.py:153(_realType)\n",
      "      110    0.000    0.000    0.000    0.000 {built-in method builtins.getattr}\n",
      "      132    0.000    0.000    0.000    0.000 linalg.py:140(isComplexType)\n",
      "       44    0.000    0.000    0.000    0.000 {method '__array_prepare__' of 'numpy.ndarray' objects}\n",
      "       44    0.000    0.000    0.000    0.000 {built-in method __new__ of type object at 0x1008a3040}\n",
      "       22    0.000    0.000    0.000    0.000 fromnumeric.py:72(<dictcomp>)\n",
      "      110    0.000    0.000    0.000    0.000 {method 'get' of 'dict' objects}\n",
      "       66    0.000    0.000    0.000    0.000 {built-in method builtins.len}\n",
      "      220    0.000    0.000    0.000    0.000 {built-in method builtins.issubclass}\n",
      "       88    0.000    0.000    0.000    0.000 {built-in method _operator.index}\n",
      "       22    0.000    0.000    0.000    0.000 _base.py:1513(issparse)\n",
      "       44    0.000    0.000    0.000    0.000 linalg.py:203(_assert_stacked_2d)\n",
      "       22    0.000    0.000    0.000    0.000 {built-in method numpy.core._multiarray_umath.normalize_axis_index}\n",
      "       44    0.000    0.000    0.000    0.000 {method 'append' of 'list' objects}\n",
      "       44    0.000    0.000    0.000    0.000 linalg.py:325(_solve_dispatcher)\n",
      "       88    0.000    0.000    0.000    0.000 fromnumeric.py:3172(_ndim_dispatcher)\n",
      "       22    0.000    0.000    0.000    0.000 {method 'items' of 'dict' objects}\n",
      "       22    0.000    0.000    0.000    0.000 multiarray.py:669(result_type)\n",
      "       22    0.000    0.000    0.000    0.000 index_tricks.py:988(_diag_indices_from)\n",
      "       22    0.000    0.000    0.000    0.000 {built-in method builtins.hasattr}\n",
      "       22    0.000    0.000    0.000    0.000 fromnumeric.py:2416(_all_dispatcher)\n",
      "       22    0.000    0.000    0.000    0.000 function_base.py:1320(_diff_dispatcher)\n",
      "        1    0.000    0.000    0.000    0.000 optimizer.py:15(__init__)\n",
      "        1    0.000    0.000    0.000    0.000 {method 'disable' of '_lsprof.Profiler' objects}"
     ]
    }
   ],
   "source": [
    "# %%prun -s cumtime\n",
    "# nm = cs.optimizer.NMOptimizer(v, H, signs, scaling, lmda=1e-6)\n",
    "# x_opt = nm.optimize(max_steps=100, tau=.5, c=.5, tol=1e-10)"
   ]
  },
  {
   "cell_type": "code",
   "execution_count": null,
   "metadata": {},
   "outputs": [
    {
     "data": {
      "text/plain": [
       "array([-3.98290864,  4.04548157,  2.95761651, ..., -4.98096396,\n",
       "        4.9821256 ,  2.98334956])"
      ]
     },
     "execution_count": 17,
     "metadata": {},
     "output_type": "execute_result"
    }
   ],
   "source": [
    "x_opt"
   ]
  },
  {
   "cell_type": "code",
   "execution_count": null,
   "metadata": {},
   "outputs": [],
   "source": [
    "nm_obj = .5 * x_opt.T.dot(H.dot(x_opt)) - v.dot(x_opt)"
   ]
  },
  {
   "cell_type": "code",
   "execution_count": null,
   "metadata": {},
   "outputs": [
    {
     "data": {
      "text/plain": [
       "True"
      ]
     },
     "execution_count": 19,
     "metadata": {},
     "output_type": "execute_result"
    }
   ],
   "source": [
    "np.allclose(qnm_obj, nm_obj)"
   ]
  },
  {
   "cell_type": "code",
   "execution_count": null,
   "metadata": {},
   "outputs": [],
   "source": []
  },
  {
   "cell_type": "code",
   "execution_count": null,
   "metadata": {},
   "outputs": [],
   "source": []
  },
  {
   "cell_type": "code",
   "execution_count": null,
   "metadata": {},
   "outputs": [],
   "source": []
  },
  {
   "cell_type": "code",
   "execution_count": null,
   "metadata": {},
   "outputs": [],
   "source": []
  },
  {
   "cell_type": "code",
   "execution_count": null,
   "metadata": {},
   "outputs": [],
   "source": []
  }
 ],
 "metadata": {
  "kernelspec": {
   "display_name": "choosi",
   "language": "python",
   "name": "python3"
  },
  "language_info": {
   "codemirror_mode": {
    "name": "ipython",
    "version": 3
   },
   "file_extension": ".py",
   "mimetype": "text/x-python",
   "name": "python",
   "nbconvert_exporter": "python",
   "pygments_lexer": "ipython3",
   "version": "3.10.14"
  }
 },
 "nbformat": 4,
 "nbformat_minor": 2
}
