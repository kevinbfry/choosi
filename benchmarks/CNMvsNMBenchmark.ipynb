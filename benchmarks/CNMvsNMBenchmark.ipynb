{
 "cells": [
  {
   "cell_type": "code",
   "execution_count": 1,
   "metadata": {},
   "outputs": [],
   "source": [
    "import numpy as np"
   ]
  },
  {
   "cell_type": "code",
   "execution_count": 2,
   "metadata": {},
   "outputs": [],
   "source": [
    "seed = 0\n",
    "n, p = int(6e3), int(5e3)\n",
    "X = np.asfortranarray(np.random.randn(n, p))\n",
    "H = X.T @ X / n"
   ]
  },
  {
   "cell_type": "code",
   "execution_count": 3,
   "metadata": {},
   "outputs": [],
   "source": [
    "import choosi as cs"
   ]
  },
  {
   "cell_type": "code",
   "execution_count": 4,
   "metadata": {},
   "outputs": [],
   "source": [
    "beta = np.random.choice([-1,1], size=p, replace=True) * np.random.choice([3,4,5], size=p, replace=True)"
   ]
  },
  {
   "cell_type": "code",
   "execution_count": 5,
   "metadata": {},
   "outputs": [],
   "source": [
    "y = X @ beta + np.random.randn(n)"
   ]
  },
  {
   "cell_type": "code",
   "execution_count": 6,
   "metadata": {},
   "outputs": [],
   "source": [
    "v = -X.T @ y / n\n",
    "scaling = np.ones(p)"
   ]
  },
  {
   "cell_type": "code",
   "execution_count": 7,
   "metadata": {},
   "outputs": [],
   "source": [
    "x_soln = np.linalg.solve(H, -v)"
   ]
  },
  {
   "cell_type": "code",
   "execution_count": 8,
   "metadata": {},
   "outputs": [],
   "source": [
    "signs = np.sign(x_soln) "
   ]
  },
  {
   "cell_type": "code",
   "execution_count": 13,
   "metadata": {},
   "outputs": [],
   "source": [
    "qnm = cs.optimizer.CQNMOptimizer(v, H, signs, scaling, lmda=1e-6)"
   ]
  },
  {
   "cell_type": "code",
   "execution_count": 14,
   "metadata": {},
   "outputs": [],
   "source": [
    "x_opt = qnm.optimize(max_steps=100, tau=.5, c=.5, tol=1e-10)"
   ]
  },
  {
   "cell_type": "code",
   "execution_count": 159,
   "metadata": {},
   "outputs": [
    {
     "name": "stdout",
     "output_type": "stream",
     "text": [
      "763 ms ± 40.1 ms per loop (mean ± std. dev. of 7 runs, 1 loop each)\n"
     ]
    }
   ],
   "source": [
    "%%timeit\n",
    "qnm = cs.optimizer.CQNMOptimizer(v, H, signs, scaling, lmda=1e-6)\n",
    "x_opt = qnm.optimize(max_steps=100, tau=.5, c=.5, tol=1e-10)"
   ]
  },
  {
   "cell_type": "code",
   "execution_count": 160,
   "metadata": {},
   "outputs": [],
   "source": [
    "nm = cs.optimizer.NMOptimizer(v, H, signs, scaling, lmda=1e-6)"
   ]
  },
  {
   "cell_type": "code",
   "execution_count": 161,
   "metadata": {},
   "outputs": [],
   "source": [
    "x_opt = nm.optimize(max_steps=100, tau=.5, c=.5, tol=1e-10)"
   ]
  },
  {
   "cell_type": "code",
   "execution_count": null,
   "metadata": {},
   "outputs": [],
   "source": [
    "%%timeit\n",
    "nm = cs.optimizer.NMOptimizer(v, H, signs, scaling, lmda=1e-6)\n",
    "x_opt = nm.optimize(max_steps=100, tau=.5, c=.5, tol=1e-10)"
   ]
  },
  {
   "cell_type": "code",
   "execution_count": 37,
   "metadata": {},
   "outputs": [
    {
     "data": {
      "text/plain": [
       "dtype('float64')"
      ]
     },
     "execution_count": 37,
     "metadata": {},
     "output_type": "execute_result"
    }
   ],
   "source": [
    "H_chol.dtype"
   ]
  },
  {
   "cell_type": "code",
   "execution_count": 139,
   "metadata": {},
   "outputs": [
    {
     "name": "stdout",
     "output_type": "stream",
     "text": [
      "CPU times: user 4.52 s, sys: 1.3 s, total: 5.82 s\n",
      "Wall time: 720 ms\n"
     ]
    }
   ],
   "source": [
    "%%time\n",
    "H_chol = np.linalg.cholesky(H)\n",
    "qnm_cpp = cs.choosi_core.optimization.QPBarrierCQN(\n",
    "    quad=H, \n",
    "    linear=v, \n",
    "    signs=signs, \n",
    "    lmda=1e-6, \n",
    "    n_threads=8, \n",
    "    quad_chol=H_chol, \n",
    "    max_iters=100, \n",
    "    tol=1e-10, \n",
    "    armijo=False, \n",
    "    armijo_max_iters=100, \n",
    "    armijo_c=0.5, \n",
    "    armijo_tau=0.5,\n",
    ")"
   ]
  },
  {
   "cell_type": "code",
   "execution_count": 58,
   "metadata": {},
   "outputs": [],
   "source": [
    "qnm = cs.optimizer.CQNMOptimizer(v, H, signs, scaling, lmda=1e-6)"
   ]
  },
  {
   "cell_type": "code",
   "execution_count": 59,
   "metadata": {},
   "outputs": [
    {
     "name": "stdout",
     "output_type": "stream",
     "text": [
      "CPU times: user 4.76 s, sys: 2.06 s, total: 6.82 s\n",
      "Wall time: 745 ms\n"
     ]
    }
   ],
   "source": [
    "%time x_opt = qnm.optimize(max_steps=100, tau=0.5, c=0.5, tol=1e-10)"
   ]
  },
  {
   "cell_type": "code",
   "execution_count": 146,
   "metadata": {},
   "outputs": [
    {
     "name": "stdout",
     "output_type": "stream",
     "text": [
      "CPU times: user 250 ms, sys: 28.8 ms, total: 279 ms\n",
      "Wall time: 35.5 ms\n"
     ]
    }
   ],
   "source": [
    "%time x_opt_cpp = qnm_cpp.solve()"
   ]
  },
  {
   "cell_type": "code",
   "execution_count": 162,
   "metadata": {},
   "outputs": [
    {
     "name": "stdout",
     "output_type": "stream",
     "text": [
      "CPU times: user 6 s, sys: 1.24 s, total: 7.24 s\n",
      "Wall time: 961 ms\n"
     ]
    }
   ],
   "source": [
    "%%time\n",
    "H_chol = np.linalg.cholesky(H)\n",
    "qnm_cpp = cs.choosi_core.optimization.QPBarrierCQN(\n",
    "    quad=H, \n",
    "    linear=v, \n",
    "    signs=signs, \n",
    "    lmda=1e-6, \n",
    "    n_threads=8, \n",
    "    quad_chol=H_chol, \n",
    "    max_iters=100, \n",
    "    tol=1e-10, \n",
    "    armijo=False, \n",
    "    armijo_max_iters=100, \n",
    "    armijo_c=0.5, \n",
    "    armijo_tau=0.5,\n",
    ")"
   ]
  },
  {
   "cell_type": "code",
   "execution_count": 163,
   "metadata": {},
   "outputs": [
    {
     "name": "stdout",
     "output_type": "stream",
     "text": [
      "33.4 ms ± 461 μs per loop (mean ± std. dev. of 7 runs, 10 loops each)\n"
     ]
    }
   ],
   "source": [
    "%%timeit\n",
    "qnm_cpp.solve()"
   ]
  },
  {
   "cell_type": "code",
   "execution_count": 25,
   "metadata": {},
   "outputs": [
    {
     "name": "stdout",
     "output_type": "stream",
     "text": [
      " "
     ]
    },
    {
     "name": "stdout",
     "output_type": "stream",
     "text": [
      "         972 function calls (968 primitive calls) in 0.084 seconds\n",
      "\n",
      "   Ordered by: cumulative time\n",
      "\n",
      "   ncalls  tottime  percall  cumtime  percall filename:lineno(function)\n",
      "        1    0.000    0.000    0.084    0.084 {built-in method builtins.exec}\n",
      "        1    0.000    0.000    0.084    0.084 <string>:1(<module>)\n",
      "        1    0.000    0.000    0.084    0.084 optimizer.py:55(optimize)\n",
      "        1    0.000    0.000    0.084    0.084 optimizer.py:70(_optimize)\n",
      "        4    0.000    0.000    0.069    0.017 optimizer.py:192(_get_hessinv)\n",
      "        1    0.063    0.063    0.063    0.063 linalg.py:688(cholesky)\n",
      "     12/8    0.000    0.000    0.010    0.001 _interface.py:205(matvec)\n",
      "        8    0.000    0.000    0.010    0.001 _interface.py:592(_matvec)\n",
      "        8    0.000    0.000    0.010    0.001 optimizer.py:196(trisolve_matvec)\n",
      "       16    0.009    0.001    0.009    0.001 _basic.py:264(solve_triangular)\n",
      "        5    0.007    0.001    0.007    0.001 optimizer.py:50(_get_grad)\n",
      "        4    0.000    0.000    0.006    0.001 _interface.py:573(__init__)\n",
      "        4    0.000    0.000    0.006    0.001 _interface.py:177(_init_dtype)\n",
      "        4    0.000    0.000    0.004    0.001 _interface.py:451(__matmul__)\n",
      "        4    0.000    0.000    0.004    0.001 _interface.py:410(__mul__)\n",
      "        4    0.000    0.000    0.004    0.001 _interface.py:419(dot)\n",
      "        4    0.000    0.000    0.004    0.001 _interface.py:740(_matvec)\n",
      "        8    0.004    0.001    0.004    0.001 optimizer.py:45(_get_obj)\n",
      "       16    0.000    0.000    0.000    0.000 index_tricks.py:992(diag_indices_from)\n",
      "       16    0.000    0.000    0.000    0.000 function_base.py:1324(diff)\n",
      "       16    0.000    0.000    0.000    0.000 fromnumeric.py:2421(all)\n",
      "       16    0.000    0.000    0.000    0.000 fromnumeric.py:71(_wrapreduction)\n",
      "       32    0.000    0.000    0.000    0.000 _util.py:275(_asarray_validated)\n",
      "       24    0.000    0.000    0.000    0.000 {method 'reduce' of 'numpy.ufunc' objects}\n",
      "        8    0.000    0.000    0.000    0.000 _interface.py:161(__init__)\n",
      "        4    0.000    0.000    0.000    0.000 _interface.py:518(__neg__)\n",
      "        8    0.000    0.000    0.000    0.000 _sputils.py:240(isshape)\n",
      "        4    0.000    0.000    0.000    0.000 _interface.py:725(__init__)\n",
      "       16    0.000    0.000    0.000    0.000 _sputils.py:218(isintlike)\n",
      "       23    0.000    0.000    0.000    0.000 {method 'dot' of 'numpy.ndarray' objects}\n",
      "        8    0.000    0.000    0.000    0.000 {method 'sum' of 'numpy.ndarray' objects}\n",
      "       16    0.000    0.000    0.000    0.000 index_tricks.py:919(diag_indices)\n",
      "       16    0.000    0.000    0.000    0.000 fromnumeric.py:3176(ndim)\n",
      "        8    0.000    0.000    0.000    0.000 _methods.py:47(_sum)\n",
      "       16    0.000    0.000    0.000    0.000 {built-in method numpy.arange}\n",
      "       16    0.000    0.000    0.000    0.000 blas.py:384(getter)\n",
      "      112    0.000    0.000    0.000    0.000 {built-in method builtins.isinstance}\n",
      "       12    0.000    0.000    0.000    0.000 numeric.py:1855(isscalar)\n",
      "       28    0.000    0.000    0.000    0.000 {built-in method numpy.asanyarray}\n",
      "        4    0.000    0.000    0.000    0.000 _interface.py:660(_get_dtype)\n",
      "        8    0.000    0.000    0.000    0.000 _interface.py:146(__new__)\n",
      "       69    0.000    0.000    0.000    0.000 {built-in method numpy.asarray}\n",
      "       36    0.000    0.000    0.000    0.000 _base.py:1513(issparse)\n",
      "       12    0.000    0.000    0.000    0.000 {method 'reshape' of 'numpy.ndarray' objects}\n",
      "        8    0.000    0.000    0.000    0.000 abc.py:117(__instancecheck__)\n",
      "       37    0.000    0.000    0.000    0.000 {method 'get' of 'dict' objects}\n",
      "        1    0.000    0.000    0.000    0.000 linalg.py:159(_commonType)\n",
      "        4    0.000    0.000    0.000    0.000 _sputils.py:384(is_pydata_spmatrix)\n",
      "       32    0.000    0.000    0.000    0.000 core.py:6485(isMaskedArray)\n",
      "       16    0.000    0.000    0.000    0.000 fromnumeric.py:72(<dictcomp>)\n",
      "        8    0.000    0.000    0.000    0.000 {built-in method _abc._abc_instancecheck}\n",
      "        4    0.000    0.000    0.000    0.000 {built-in method numpy.zeros}\n",
      "        1    0.000    0.000    0.000    0.000 linalg.py:135(_makearray)\n",
      "       40    0.000    0.000    0.000    0.000 {built-in method builtins.len}\n",
      "       16    0.000    0.000    0.000    0.000 {built-in method numpy.core._multiarray_umath.normalize_axis_index}\n",
      "       16    0.000    0.000    0.000    0.000 index_tricks.py:988(_diag_indices_from)\n",
      "        8    0.000    0.000    0.000    0.000 {built-in method __new__ of type object at 0x102b1b9f0}\n",
      "        1    0.000    0.000    0.000    0.000 {method 'astype' of 'numpy.ndarray' objects}\n",
      "        8    0.000    0.000    0.000    0.000 {built-in method builtins.hasattr}\n",
      "       20    0.000    0.000    0.000    0.000 {method 'append' of 'list' objects}\n",
      "        1    0.000    0.000    0.000    0.000 optimizer.py:15(__init__)\n",
      "       16    0.000    0.000    0.000    0.000 {built-in method _operator.index}\n",
      "        1    0.000    0.000    0.000    0.000 linalg.py:153(_realType)\n",
      "       16    0.000    0.000    0.000    0.000 {method 'items' of 'dict' objects}\n",
      "       16    0.000    0.000    0.000    0.000 _misc.py:181(_datacopied)\n",
      "       16    0.000    0.000    0.000    0.000 function_base.py:1320(_diff_dispatcher)\n",
      "        5    0.000    0.000    0.000    0.000 {built-in method builtins.getattr}\n",
      "        1    0.000    0.000    0.000    0.000 linalg.py:130(get_linalg_error_extobj)\n",
      "        1    0.000    0.000    0.000    0.000 linalg.py:209(_assert_stacked_square)\n",
      "       16    0.000    0.000    0.000    0.000 fromnumeric.py:2416(_all_dispatcher)\n",
      "       16    0.000    0.000    0.000    0.000 fromnumeric.py:3172(_ndim_dispatcher)\n",
      "        1    0.000    0.000    0.000    0.000 linalg.py:203(_assert_stacked_2d)\n",
      "        2    0.000    0.000    0.000    0.000 linalg.py:140(isComplexType)\n",
      "        4    0.000    0.000    0.000    0.000 multiarray.py:669(result_type)\n",
      "        3    0.000    0.000    0.000    0.000 {built-in method builtins.issubclass}\n",
      "        1    0.000    0.000    0.000    0.000 {method '__array_prepare__' of 'numpy.ndarray' objects}\n",
      "        1    0.000    0.000    0.000    0.000 {method 'disable' of '_lsprof.Profiler' objects}\n",
      "        1    0.000    0.000    0.000    0.000 linalg.py:488(_unary_dispatcher)"
     ]
    }
   ],
   "source": [
    "%%prun -s cumtime\n",
    "qnm = cs.optimizer.CQNMOptimizer(v, H, signs, scaling, lmda=1e-6)\n",
    "x_opt = qnm.optimize(max_steps=100, tau=.5, c=.5, tol=1e-10)"
   ]
  },
  {
   "cell_type": "code",
   "execution_count": 15,
   "metadata": {},
   "outputs": [
    {
     "data": {
      "text/plain": [
       "array([ 3.01285994,  3.99549768, -2.98756779, ..., -2.97888004,\n",
       "        2.9748843 , -4.9867582 ])"
      ]
     },
     "execution_count": 15,
     "metadata": {},
     "output_type": "execute_result"
    }
   ],
   "source": [
    "x_opt"
   ]
  },
  {
   "cell_type": "code",
   "execution_count": 16,
   "metadata": {},
   "outputs": [
    {
     "data": {
      "text/plain": [
       "array([ 3.01298849,  3.99567741, -2.98763031, ..., -2.97914608,\n",
       "        2.97502644, -4.98700454])"
      ]
     },
     "execution_count": 16,
     "metadata": {},
     "output_type": "execute_result"
    }
   ],
   "source": [
    "x_soln"
   ]
  },
  {
   "cell_type": "code",
   "execution_count": 17,
   "metadata": {},
   "outputs": [
    {
     "data": {
      "text/plain": [
       "False"
      ]
     },
     "execution_count": 17,
     "metadata": {},
     "output_type": "execute_result"
    }
   ],
   "source": [
    "np.allclose(x_opt, x_soln)"
   ]
  },
  {
   "cell_type": "code",
   "execution_count": 18,
   "metadata": {},
   "outputs": [],
   "source": [
    "qnm_obj = .5 * x_opt.T.dot(H.dot(x_opt)) - v.dot(x_opt)"
   ]
  },
  {
   "cell_type": "code",
   "execution_count": 19,
   "metadata": {},
   "outputs": [
    {
     "name": "stdout",
     "output_type": "stream",
     "text": [
      " "
     ]
    },
    {
     "name": "stdout",
     "output_type": "stream",
     "text": [
      "         4170 function calls (4146 primitive calls) in 4.566 seconds\n",
      "\n",
      "   Ordered by: cumulative time\n",
      "\n",
      "   ncalls  tottime  percall  cumtime  percall filename:lineno(function)\n",
      "        1    0.000    0.000    4.566    4.566 {built-in method builtins.exec}\n",
      "        1    0.000    0.000    4.566    4.566 <string>:1(<module>)\n",
      "        1    0.000    0.000    4.566    4.566 optimizer.py:55(optimize)\n",
      "        1    0.001    0.001    4.566    4.566 optimizer.py:70(_optimize)\n",
      "    72/48    0.000    0.000    4.416    0.092 _interface.py:205(matvec)\n",
      "       48    0.000    0.000    4.415    0.092 _interface.py:592(_matvec)\n",
      "       48    0.000    0.000    4.415    0.092 optimizer.py:35(solve_matvec)\n",
      "       48    4.414    0.092    4.414    0.092 linalg.py:329(solve)\n",
      "       24    0.002    0.000    2.254    0.094 optimizer.py:30(_get_hessinv)\n",
      "       24    0.000    0.000    2.250    0.094 _interface.py:573(__init__)\n",
      "       24    0.000    0.000    2.249    0.094 _interface.py:177(_init_dtype)\n",
      "       24    0.000    0.000    2.167    0.090 _interface.py:451(__matmul__)\n",
      "       24    0.000    0.000    2.167    0.090 _interface.py:410(__mul__)\n",
      "       24    0.000    0.000    2.167    0.090 _interface.py:419(dot)\n",
      "       24    0.000    0.000    2.166    0.090 _interface.py:740(_matvec)\n",
      "       70    0.107    0.002    0.108    0.002 optimizer.py:45(_get_obj)\n",
      "       25    0.034    0.001    0.034    0.001 optimizer.py:50(_get_grad)\n",
      "       24    0.001    0.000    0.002    0.000 index_tricks.py:992(diag_indices_from)\n",
      "      187    0.002    0.000    0.002    0.000 {method 'dot' of 'numpy.ndarray' objects}\n",
      "       24    0.000    0.000    0.001    0.000 _interface.py:518(__neg__)\n",
      "       24    0.000    0.000    0.001    0.000 _interface.py:725(__init__)\n",
      "       94    0.001    0.000    0.001    0.000 {method 'reduce' of 'numpy.ufunc' objects}\n",
      "       48    0.000    0.000    0.001    0.000 _interface.py:161(__init__)\n",
      "       70    0.000    0.000    0.001    0.000 {method 'sum' of 'numpy.ndarray' objects}\n",
      "       48    0.000    0.000    0.001    0.000 _sputils.py:240(isshape)\n",
      "       70    0.000    0.000    0.001    0.000 _methods.py:47(_sum)\n",
      "       96    0.000    0.000    0.001    0.000 _sputils.py:218(isintlike)\n",
      "       24    0.000    0.000    0.001    0.000 function_base.py:1324(diff)\n",
      "       24    0.000    0.000    0.000    0.000 fromnumeric.py:2421(all)\n",
      "       96    0.000    0.000    0.000    0.000 fromnumeric.py:3176(ndim)\n",
      "       24    0.000    0.000    0.000    0.000 fromnumeric.py:71(_wrapreduction)\n",
      "       24    0.000    0.000    0.000    0.000 _interface.py:660(_get_dtype)\n",
      "       48    0.000    0.000    0.000    0.000 linalg.py:159(_commonType)\n",
      "      288    0.000    0.000    0.000    0.000 {built-in method builtins.isinstance}\n",
      "       72    0.000    0.000    0.000    0.000 {method 'reshape' of 'numpy.ndarray' objects}\n",
      "       72    0.000    0.000    0.000    0.000 numeric.py:1855(isscalar)\n",
      "       48    0.000    0.000    0.000    0.000 _interface.py:146(__new__)\n",
      "      312    0.000    0.000    0.000    0.000 {built-in method numpy.asarray}\n",
      "       48    0.000    0.000    0.000    0.000 {method 'astype' of 'numpy.ndarray' objects}\n",
      "       96    0.000    0.000    0.000    0.000 linalg.py:135(_makearray)\n",
      "       24    0.000    0.000    0.000    0.000 index_tricks.py:919(diag_indices)\n",
      "       96    0.000    0.000    0.000    0.000 {built-in method numpy.asanyarray}\n",
      "       48    0.000    0.000    0.000    0.000 linalg.py:130(get_linalg_error_extobj)\n",
      "       24    0.000    0.000    0.000    0.000 {built-in method numpy.arange}\n",
      "       48    0.000    0.000    0.000    0.000 abc.py:117(__instancecheck__)\n",
      "       24    0.000    0.000    0.000    0.000 _sputils.py:384(is_pydata_spmatrix)\n",
      "       48    0.000    0.000    0.000    0.000 linalg.py:209(_assert_stacked_square)\n",
      "       48    0.000    0.000    0.000    0.000 {built-in method _abc._abc_instancecheck}\n",
      "       96    0.000    0.000    0.000    0.000 linalg.py:153(_realType)\n",
      "      144    0.000    0.000    0.000    0.000 linalg.py:140(isComplexType)\n",
      "       48    0.000    0.000    0.000    0.000 {method '__array_prepare__' of 'numpy.ndarray' objects}\n",
      "      120    0.000    0.000    0.000    0.000 {built-in method builtins.getattr}\n",
      "       48    0.000    0.000    0.000    0.000 {built-in method __new__ of type object at 0x102a03040}\n",
      "       24    0.000    0.000    0.000    0.000 {built-in method numpy.zeros}\n",
      "      120    0.000    0.000    0.000    0.000 {method 'get' of 'dict' objects}\n",
      "       24    0.000    0.000    0.000    0.000 fromnumeric.py:72(<dictcomp>)\n",
      "       72    0.000    0.000    0.000    0.000 {built-in method builtins.len}\n",
      "      240    0.000    0.000    0.000    0.000 {built-in method builtins.issubclass}\n",
      "       48    0.000    0.000    0.000    0.000 linalg.py:203(_assert_stacked_2d)\n",
      "       96    0.000    0.000    0.000    0.000 {built-in method _operator.index}\n",
      "       48    0.000    0.000    0.000    0.000 {method 'append' of 'list' objects}\n",
      "       96    0.000    0.000    0.000    0.000 fromnumeric.py:3172(_ndim_dispatcher)\n",
      "       24    0.000    0.000    0.000    0.000 {built-in method numpy.core._multiarray_umath.normalize_axis_index}\n",
      "       24    0.000    0.000    0.000    0.000 _base.py:1513(issparse)\n",
      "       48    0.000    0.000    0.000    0.000 linalg.py:325(_solve_dispatcher)\n",
      "       24    0.000    0.000    0.000    0.000 {method 'items' of 'dict' objects}\n",
      "       24    0.000    0.000    0.000    0.000 {built-in method builtins.hasattr}\n",
      "       24    0.000    0.000    0.000    0.000 index_tricks.py:988(_diag_indices_from)\n",
      "       24    0.000    0.000    0.000    0.000 multiarray.py:669(result_type)\n",
      "       24    0.000    0.000    0.000    0.000 fromnumeric.py:2416(_all_dispatcher)\n",
      "       24    0.000    0.000    0.000    0.000 function_base.py:1320(_diff_dispatcher)\n",
      "        1    0.000    0.000    0.000    0.000 optimizer.py:15(__init__)\n",
      "        1    0.000    0.000    0.000    0.000 {method 'disable' of '_lsprof.Profiler' objects}"
     ]
    }
   ],
   "source": [
    "%%prun -s cumtime\n",
    "nm = cs.optimizer.NMOptimizer(v, H, signs, scaling, lmda=1e-6)\n",
    "x_opt = nm.optimize(max_steps=100, tau=.5, c=.5, tol=1e-10)"
   ]
  },
  {
   "cell_type": "code",
   "execution_count": 20,
   "metadata": {},
   "outputs": [
    {
     "data": {
      "text/plain": [
       "array([ 3.01284608,  3.9954782 , -2.98756107, ..., -2.97885121,\n",
       "        2.97486888, -4.98673145])"
      ]
     },
     "execution_count": 20,
     "metadata": {},
     "output_type": "execute_result"
    }
   ],
   "source": [
    "x_opt"
   ]
  },
  {
   "cell_type": "code",
   "execution_count": 21,
   "metadata": {},
   "outputs": [
    {
     "data": {
      "text/plain": [
       "array([ 3.01298849,  3.99567741, -2.98763031, ..., -2.97914608,\n",
       "        2.97502644, -4.98700454])"
      ]
     },
     "execution_count": 21,
     "metadata": {},
     "output_type": "execute_result"
    }
   ],
   "source": [
    "x_soln"
   ]
  },
  {
   "cell_type": "code",
   "execution_count": 22,
   "metadata": {},
   "outputs": [
    {
     "data": {
      "text/plain": [
       "False"
      ]
     },
     "execution_count": 22,
     "metadata": {},
     "output_type": "execute_result"
    }
   ],
   "source": [
    "np.allclose(x_opt, x_soln)"
   ]
  },
  {
   "cell_type": "code",
   "execution_count": 23,
   "metadata": {},
   "outputs": [],
   "source": [
    "nm_obj = .5 * x_opt.T.dot(H.dot(x_opt)) - v.dot(x_opt)"
   ]
  },
  {
   "cell_type": "code",
   "execution_count": 24,
   "metadata": {},
   "outputs": [
    {
     "data": {
      "text/plain": [
       "True"
      ]
     },
     "execution_count": 24,
     "metadata": {},
     "output_type": "execute_result"
    }
   ],
   "source": [
    "np.allclose(qnm_obj, nm_obj)"
   ]
  },
  {
   "cell_type": "code",
   "execution_count": null,
   "metadata": {},
   "outputs": [],
   "source": []
  },
  {
   "cell_type": "code",
   "execution_count": null,
   "metadata": {},
   "outputs": [],
   "source": []
  },
  {
   "cell_type": "code",
   "execution_count": null,
   "metadata": {},
   "outputs": [],
   "source": []
  },
  {
   "cell_type": "code",
   "execution_count": null,
   "metadata": {},
   "outputs": [],
   "source": []
  },
  {
   "cell_type": "code",
   "execution_count": null,
   "metadata": {},
   "outputs": [],
   "source": []
  }
 ],
 "metadata": {
  "kernelspec": {
   "display_name": "choosi",
   "language": "python",
   "name": "python3"
  },
  "language_info": {
   "codemirror_mode": {
    "name": "ipython",
    "version": 3
   },
   "file_extension": ".py",
   "mimetype": "text/x-python",
   "name": "python",
   "nbconvert_exporter": "python",
   "pygments_lexer": "ipython3",
   "version": "3.10.0"
  }
 },
 "nbformat": 4,
 "nbformat_minor": 2
}
